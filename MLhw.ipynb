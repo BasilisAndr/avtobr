{
 "cells": [
  {
   "cell_type": "markdown",
   "metadata": {},
   "source": [
    "Возьмите два небольших корпуса (можно взять \"Анну Каренину\" и сонеты Шекспира). Напишите программу, которая наглядно демонстрирует ответ на вопрос: можно ли различить предложения этих двух текстов, пользуясь лишь следующими признаками:\n",
    "- длина предложения в буквах,\n",
    "- число различных букв в предложении,\n",
    "- число гласных в предложении,\n",
    "- медиана числа букв в слове,\n",
    "- медиана числа гласных в слове.\n",
    "\n",
    "Для этого превратите каждое предолжение в список соответствующих чисел. Выведите на экран распределение данных по предложениям по двум осям, дающим наилучшее разделение (пара осей для обоих текстов должна быть одинаковой).\n",
    "\n",
    "\n",
    "Взять признаки из предыдущего задания и построить классификатор, который пытался бы угадать, к какому корпусу относится предложение с определенным набором признаков. Привести 3 примера, где классификатор ошибается."
   ]
  },
  {
   "cell_type": "code",
   "execution_count": 2,
   "metadata": {
    "collapsed": false
   },
   "outputs": [],
   "source": [
    "import re\n",
    "import numpy as np\n",
    "from matplotlib import pyplot as plt\n",
    "\n",
    "%matplotlib inline"
   ]
  },
  {
   "cell_type": "code",
   "execution_count": 74,
   "metadata": {
    "collapsed": false
   },
   "outputs": [
    {
     "name": "stdout",
     "output_type": "stream",
     "text": [
      "21499\n",
      "1378\n"
     ]
    }
   ],
   "source": [
    "# Split into sentences\n",
    "with open('anna.txt') as f:\n",
    "    anna = f.read()\n",
    "with open('sonets.txt') as f:\n",
    "    sonets = f.read()\n",
    "\n",
    "anna_sentences = re.split(r'(?:[.]\\s*){3}|[.?!]', anna)\n",
    "sonet_sentences = re.split(r'(?:[.]\\s*){3}|[.?!]', sonets)\n",
    "\n",
    "print(len(anna_sentences))\n",
    "print(len(sonet_sentences))\n",
    "# я почищу пустые строки, потому что зачем\n",
    "anna_sentences = [sent for sent in anna_sentences if sent.strip() != '']\n",
    "sonet_sentences = [sent for sent in sonet_sentences if sent.strip() != '']"
   ]
  },
  {
   "cell_type": "code",
   "execution_count": 78,
   "metadata": {
    "collapsed": false
   },
   "outputs": [],
   "source": [
    "# Get the data\n",
    "def len_wds(sent):\n",
    "    return[len(wd.strip()) for wd in sent.split()]\n",
    "\n",
    "\n",
    "def num_vows(sent):\n",
    "    vows = re.compile('[аэоуыяеёюи]')\n",
    "    return [len(re.findall(vows, wd)) for wd in sent.split()]\n",
    "\n",
    "\n",
    "def get_data(sents):\n",
    "    praed = [(len_wds(sentence), num_vows(sentence), len(set(sentence.lower()))) for sentence in sents]\n",
    "    data = [(sum(sent[0]), sent[2], sum(sent[1]), np.median(sent[0]), np.median(sent[1])) for sent in praed]\n",
    "    return data\n",
    "\n",
    "anna_data, sonets_data = get_data(anna_sentences), get_data(sonet_sentences)"
   ]
  },
  {
   "cell_type": "markdown",
   "metadata": {},
   "source": [
    "Дата готова, можно начинать PCA"
   ]
  },
  {
   "cell_type": "code",
   "execution_count": 89,
   "metadata": {
    "collapsed": false
   },
   "outputs": [],
   "source": [
    "from matplotlib import mlab\n",
    "data = np.vstack((anna_data, sonets_data))\n",
    "p = mlab.PCA(data, True)\n",
    "N = len(anna_data)"
   ]
  },
  {
   "cell_type": "code",
   "execution_count": 103,
   "metadata": {
    "collapsed": false
   },
   "outputs": [
    {
     "data": {
      "text/plain": [
       "[<matplotlib.lines.Line2D at 0x10c04d7b8>,\n",
       " <matplotlib.lines.Line2D at 0x10c04d940>]"
      ]
     },
     "execution_count": 103,
     "metadata": {},
     "output_type": "execute_result"
    },
    {
     "data": {
      "image/png": "[encoded data removed]",
      "text/plain": [
       "<matplotlib.figure.Figure at 0x10c00c1d0>"
      ]
     },
     "metadata": {},
     "output_type": "display_data"
    }
   ],
   "source": [
    "plt.plot(p.Y[:N,0], p.Y[:N,1], '^b', p.Y[N:,0], p.Y[N:,1], 'sr', markeredgewidth=0.0)"
   ]
  },
  {
   "cell_type": "markdown",
   "metadata": {},
   "source": [
    "PCA готово (?), теперь классифакатор"
   ]
  },
  {
   "cell_type": "code",
   "execution_count": 114,
   "metadata": {
    "collapsed": false
   },
   "outputs": [
    {
     "name": "stdout",
     "output_type": "stream",
     "text": [
      "Processing corp1...\n",
      "Processing corp2...\n",
      "Classifying...\n",
      "Best result is  0.939760102687\n",
      "Пример ошибки машины: class =  1 , label =  [2] , экземпляр  [1 4 3 0 1 0]\n",
      "Пример ошибки машины: class =  1 , label =  [2] , экземпляр  [1 8 2 0 1 2]\n",
      "Пример ошибки машины: class =  1 , label =  [2] , экземпляр  [3 5 4 0 3 0]\n"
     ]
    }
   ],
   "source": [
    "from sklearn import grid_search, svm\n",
    "from pymystem3 import Mystem\n",
    "m = Mystem()\n",
    "\n",
    "def mystem(sentence):\n",
    "    sentence = sentence.strip()\n",
    "    ananas = m.analyze(sentence)\n",
    "    return ananas\n",
    "\n",
    "def nouns(analysis):\n",
    "    try:\n",
    "        return len([w for w in analysis if 'S,' in w['analysis'][0]['gr']])\n",
    "    except:\n",
    "        return 0\n",
    "\n",
    "def adjectives(analysis):\n",
    "    try:\n",
    "        return len([w for w in analysis if 'A=' in w['analysis'][0]['gr']])\n",
    "    except:\n",
    "        return 0\n",
    "\n",
    "def verbs(analysis):\n",
    "    try:\n",
    "        return len([w for w in analysis if 'V,' in w['analysis'][0]['gr']])\n",
    "    except:\n",
    "        return 0\n",
    "\n",
    "def adverbs(analysis):\n",
    "    try:\n",
    "        return len([w for w in analysis if 'ADV=' in w['analysis'][0]['gr']])\n",
    "    except:\n",
    "        return 0\n",
    "\n",
    "def pronouns(analysis):\n",
    "    try:\n",
    "        return len([w for w in analysis if 'PRO' in w['analysis'][0]['gr']])\n",
    "    except:\n",
    "        return 0\n",
    "\n",
    "def prepositions(analysis):\n",
    "    try:\n",
    "        return len([w for w in analysis if 'PR=' in w['analysis'][0]['gr']])\n",
    "    except:\n",
    "        return 0\n",
    "\n",
    "# нам же всё равно не нужны пустые строки (да кому они вообще нужны)\n",
    "\n",
    "corp1_sentences = sonet_sentences\n",
    "corp2_sentences = anna_sentences\n",
    "corp1_data = []\n",
    "corp2_data = []\n",
    "\n",
    "print('Processing corp1...')\n",
    "for sent in corp1_sentences:\n",
    "    ana = mystem(sent)\n",
    "    ana = [analysis for analysis in ana if 'analysis' in analysis.keys() and analysis['analysis'] != []]\n",
    "    corp1_data.append([1, adjectives(ana), nouns(ana), verbs(ana), adverbs(ana), pronouns(ana), prepositions(ana)])\n",
    "print('Processing corp2...')\n",
    "for sent in corp2_sentences:\n",
    "    ana = mystem(sent)\n",
    "    ana = [analysis for analysis in ana if 'analysis' in analysis.keys() and analysis['analysis'] != []]\n",
    "    corp2_data.append([2, adjectives(ana), nouns(ana), verbs(ana), adverbs(ana), pronouns(ana), prepositions(ana)])\n",
    "\n",
    "corp1_data = np.array(corp1_data)\n",
    "corp2_data = np.array(corp2_data)\n",
    "data = np.vstack((corp1_data, corp2_data))\n",
    "\n",
    "import warnings\n",
    "warnings.filterwarnings('ignore')\n",
    "print('Classifying...')\n",
    "parameters = {'C': (.1, .5, 1.0, 1.5, 1.7, 2.0)}\n",
    "gs = grid_search.GridSearchCV(svm.LinearSVC(), parameters)\n",
    "gs.fit(data[:, 1:], data[:, 0])\n",
    "print('Best result is ',gs.best_score_)\n",
    "clf = svm.LinearSVC(C=gs.best_estimator_.C)\n",
    "clf.fit(data[::2, 1:], data[::2, 0])\n",
    "wrong = 0\n",
    "for obj in data[1::2, :]:\n",
    "    label = clf.predict(obj[1:])\n",
    "    if label != obj[0] and wrong < 3:\n",
    "        print('Пример ошибки машины: class = ', obj[0], ', label = ', label, ', экземпляр ', obj[1:])\n",
    "        wrong += 1\n",
    "    elif wrong > 3:\n",
    "        break"
   ]
  },
  {
   "cell_type": "markdown",
   "metadata": {},
   "source": [
    "Вроде всё?"
   ]
  }
 ],
 "metadata": {
  "anaconda-cloud": {},
  "kernelspec": {
   "display_name": "Python [conda root]",
   "language": "python",
   "name": "conda-root-py"
  }
 },
 "nbformat": 4,
 "nbformat_minor": 1
}
