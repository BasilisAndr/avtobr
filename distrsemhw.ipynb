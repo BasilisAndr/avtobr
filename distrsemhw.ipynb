{
 "cells": [
  {
   "cell_type": "code",
   "execution_count": 46,
   "metadata": {
    "collapsed": true
   },
   "outputs": [],
   "source": [
    "import os\n",
    "import re\n",
    "import sys\n",
    "import string\n",
    "import numpy as np\n",
    "import pandas as pd\n",
    "import gensim, logging\n",
    "from pymystem3 import Mystem"
   ]
  },
  {
   "cell_type": "code",
   "execution_count": 41,
   "metadata": {
    "collapsed": false
   },
   "outputs": [],
   "source": [
    "path = './weka/weka/'\n",
    "classes = ['anekdots', 'izvest', 'teh_mol']\n",
    "datas = []\n",
    "\n",
    "for cls in classes:\n",
    "    pth = os.path.join(path, cls)\n",
    "    for i in os.listdir(pth):\n",
    "        with open(os.path.join(pth, i)) as f:\n",
    "            datas.append([cls, f.read()])"
   ]
  },
  {
   "cell_type": "code",
   "execution_count": 62,
   "metadata": {
    "collapsed": true
   },
   "outputs": [],
   "source": [
    "data = pd.DataFrame(datas, columns=['cls', 'text'])"
   ]
  },
  {
   "cell_type": "code",
   "execution_count": 43,
   "metadata": {
    "collapsed": false
   },
   "outputs": [
    {
     "data": {
      "text/html": [
       "<div>\n",
       "<table border=\"1\" class=\"dataframe\">\n",
       "  <thead>\n",
       "    <tr style=\"text-align: right;\">\n",
       "      <th></th>\n",
       "      <th>cls</th>\n",
       "      <th>text</th>\n",
       "    </tr>\n",
       "  </thead>\n",
       "  <tbody>\n",
       "    <tr>\n",
       "      <th>370</th>\n",
       "      <td>teh_mol</td>\n",
       "      <td>Д. Арнаудов. По просьбам репортеров\\nСнимки, н...</td>\n",
       "    </tr>\n",
       "    <tr>\n",
       "      <th>371</th>\n",
       "      <td>teh_mol</td>\n",
       "      <td>А. Соломин, В. Соломин. Непростые фигурные чис...</td>\n",
       "    </tr>\n",
       "    <tr>\n",
       "      <th>372</th>\n",
       "      <td>teh_mol</td>\n",
       "      <td>Е. Блохин. На вас вся надежда\\nЯ недавно побыв...</td>\n",
       "    </tr>\n",
       "    <tr>\n",
       "      <th>373</th>\n",
       "      <td>teh_mol</td>\n",
       "      <td>Олег Сагоян, Владимир Диденко. Гимнастический ...</td>\n",
       "    </tr>\n",
       "    <tr>\n",
       "      <th>374</th>\n",
       "      <td>teh_mol</td>\n",
       "      <td>Анатолий Карташкин. Устройства для мистификаци...</td>\n",
       "    </tr>\n",
       "  </tbody>\n",
       "</table>\n",
       "</div>"
      ],
      "text/plain": [
       "         cls                                               text\n",
       "370  teh_mol  Д. Арнаудов. По просьбам репортеров\\nСнимки, н...\n",
       "371  teh_mol  А. Соломин, В. Соломин. Непростые фигурные чис...\n",
       "372  teh_mol  Е. Блохин. На вас вся надежда\\nЯ недавно побыв...\n",
       "373  teh_mol  Олег Сагоян, Владимир Диденко. Гимнастический ...\n",
       "374  teh_mol  Анатолий Карташкин. Устройства для мистификаци..."
      ]
     },
     "execution_count": 43,
     "metadata": {},
     "output_type": "execute_result"
    }
   ],
   "source": [
    "data.tail()"
   ]
  },
  {
   "cell_type": "code",
   "execution_count": 63,
   "metadata": {
    "collapsed": false
   },
   "outputs": [
    {
     "data": {
      "text/html": [
       "<div>\n",
       "<table border=\"1\" class=\"dataframe\">\n",
       "  <thead>\n",
       "    <tr style=\"text-align: right;\">\n",
       "      <th></th>\n",
       "      <th>cls</th>\n",
       "      <th>text</th>\n",
       "    </tr>\n",
       "  </thead>\n",
       "  <tbody>\n",
       "    <tr>\n",
       "      <th>0</th>\n",
       "      <td>anekdots</td>\n",
       "      <td>[абстрактный, анекдот, ***\\n, лететь, два, кир...</td>\n",
       "    </tr>\n",
       "    <tr>\n",
       "      <th>1</th>\n",
       "      <td>anekdots</td>\n",
       "      <td>[андропов, ***\\n, --\\n, какой, поэзия, любить,...</td>\n",
       "    </tr>\n",
       "    <tr>\n",
       "      <th>2</th>\n",
       "      <td>anekdots</td>\n",
       "      <td>[англичанин, ***\\n, пожилой, джентльмен, приуч...</td>\n",
       "    </tr>\n",
       "    <tr>\n",
       "      <th>3</th>\n",
       "      <td>anekdots</td>\n",
       "      <td>[аптекарь, ***\\n, старый, аптекарь, оставлять,...</td>\n",
       "    </tr>\n",
       "    <tr>\n",
       "      <th>4</th>\n",
       "      <td>anekdots</td>\n",
       "      <td>[военный, ***\\n, в, армия, нет, вечный, двигат...</td>\n",
       "    </tr>\n",
       "  </tbody>\n",
       "</table>\n",
       "</div>"
      ],
      "text/plain": [
       "        cls                                               text\n",
       "0  anekdots  [абстрактный, анекдот, ***\\n, лететь, два, кир...\n",
       "1  anekdots  [андропов, ***\\n, --\\n, какой, поэзия, любить,...\n",
       "2  anekdots  [англичанин, ***\\n, пожилой, джентльмен, приуч...\n",
       "3  anekdots  [аптекарь, ***\\n, старый, аптекарь, оставлять,...\n",
       "4  anekdots  [военный, ***\\n, в, армия, нет, вечный, двигат..."
      ]
     },
     "execution_count": 63,
     "metadata": {},
     "output_type": "execute_result"
    }
   ],
   "source": [
    "# здесь должны были убираться знаки препинания, ноо нет\n",
    "m = Mystem()\n",
    "data['text'] = data['text'].map(lambda x: list(map(lambda y: m.lemmatize(y)[0], x.split())))\n",
    "data.head()"
   ]
  },
  {
   "cell_type": "code",
   "execution_count": 45,
   "metadata": {
    "collapsed": false
   },
   "outputs": [],
   "source": [
    "mod = 'ruscorpora_1_300_10.bin'\n",
    "model = gensim.models.KeyedVectors.load_word2vec_format(mod, binary=True)"
   ]
  },
  {
   "cell_type": "code",
   "execution_count": 69,
   "metadata": {
    "collapsed": true
   },
   "outputs": [],
   "source": [
    "tags_my = ['S', 'A', 'ADV', 'V']\n",
    "tags_mo = ['NOUN', 'ADJ', 'ADV', 'VERB']\n",
    "tags = {tags_my[i]: tags_mo[i] for i in range(len(tags_my))}"
   ]
  },
  {
   "cell_type": "code",
   "execution_count": 90,
   "metadata": {
    "collapsed": false
   },
   "outputs": [],
   "source": [
    "vectors = []\n",
    "i = 0\n",
    "for txt in data['text']:\n",
    "    raw_v = []\n",
    "    for wd in txt:\n",
    "        try:\n",
    "            wt = m.analyze(wd)[0]['analysis'][0]['gr'].split(',')[0].split('=')[0]\n",
    "            raw_v.append(model['{}_{}'.format(wd, tags[wt])])\n",
    "        except:\n",
    "            continue\n",
    "    vectors.append(np.mean(np.array(raw_v), axis=0))"
   ]
  },
  {
   "cell_type": "code",
   "execution_count": 91,
   "metadata": {
    "collapsed": false
   },
   "outputs": [
    {
     "data": {
      "text/plain": [
       "True"
      ]
     },
     "execution_count": 91,
     "metadata": {},
     "output_type": "execute_result"
    }
   ],
   "source": [
    "len(data['text'])==len(vectors)"
   ]
  },
  {
   "cell_type": "markdown",
   "metadata": {},
   "source": [
    "Часть вторая"
   ]
  },
  {
   "cell_type": "code",
   "execution_count": 94,
   "metadata": {
    "collapsed": true
   },
   "outputs": [],
   "source": [
    "from sklearn.model_selection import cross_val_score, cross_val_predict\n",
    "from sklearn.linear_model import LogisticRegression\n",
    "from sklearn.model_selection import train_test_split\n",
    " \n",
    "clf = LogisticRegression(penalty=\"l2\", solver=\"lbfgs\", multi_class=\"multinomial\", max_iter=300, n_jobs=4)"
   ]
  },
  {
   "cell_type": "code",
   "execution_count": 93,
   "metadata": {
    "collapsed": true
   },
   "outputs": [],
   "source": [
    "X_train, X_test, y_train, y_test = train_test_split(vectors, data['cls'])"
   ]
  },
  {
   "cell_type": "code",
   "execution_count": null,
   "metadata": {
    "collapsed": true
   },
   "outputs": [],
   "source": [
    "cross_val_predict(clf, X_train, y_train)"
   ]
  },
  {
   "cell_type": "code",
   "execution_count": null,
   "metadata": {
    "collapsed": true
   },
   "outputs": [],
   "source": []
  }
 ],
 "metadata": {
  "anaconda-cloud": {},
  "kernelspec": {
   "display_name": "Python [conda root]",
   "language": "python",
   "name": "conda-root-py"
  },
  "language_info": {
   "codemirror_mode": {
    "name": "ipython",
    "version": 3
   },
   "file_extension": ".py",
   "mimetype": "text/x-python",
   "name": "python",
   "nbconvert_exporter": "python",
   "pygments_lexer": "ipython3",
   "version": "3.5.2"
  }
 },
 "nbformat": 4,
 "nbformat_minor": 1
}
