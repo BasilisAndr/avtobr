{
 "cells": [
  {
   "cell_type": "markdown",
   "metadata": {},
   "source": [
    "# ДОМАШКА\n",
    "(Насколько я поняла, нужно найти самые типичные действия суда, то есть именно сочетания (суд) гл + что-то (т.е. например \"мера пресечения\" не подходит))\n",
    "\n",
    "(у меня почему-то не работает from nltk.collocations import * :C)"
   ]
  },
  {
   "cell_type": "code",
   "execution_count": 22,
   "metadata": {
    "collapsed": true
   },
   "outputs": [],
   "source": [
    "import nltk\n",
    "bigram_measures = nltk.collocations.BigramAssocMeasures()\n",
    "trigram_measures = nltk.collocations.TrigramAssocMeasures()"
   ]
  },
  {
   "cell_type": "markdown",
   "metadata": {},
   "source": [
    "Итак, мы пытаемся найти биграммы действий суда, т.е. 2+3 столбцы. Добавим стоп-слов, чтобы можно было воспльзоваться nltk finderом и поставить на это фильтр"
   ]
  },
  {
   "cell_type": "code",
   "execution_count": 7,
   "metadata": {
    "collapsed": true
   },
   "outputs": [],
   "source": [
    "pre_words = open('court-V-N.csv').read().split('\\n')\n",
    "words = []\n",
    "for pre_word in pre_words:\n",
    "    words += [word.strip().lower() for word in pre_word.split(' ,')][:3] + ['stop']"
   ]
  },
  {
   "cell_type": "code",
   "execution_count": 10,
   "metadata": {
    "collapsed": true
   },
   "outputs": [],
   "source": [
    "finder = nltk.collocations.BigramCollocationFinder.from_words(words)\n",
    "finder.apply_ngram_filter(lambda w1, w2: 'суд' in (w1, w2) or 'stop' in (w1, w2))\n",
    "finder.apply_freq_filter(3)"
   ]
  },
  {
   "cell_type": "markdown",
   "metadata": {},
   "source": [
    "Будем использовать likelihood ratio и mutual information. Ожидается, что likelihood выдаст хороший результат, а mi выдаст неплохой, лучше, чем у pmi (эталон безысходности)"
   ]
  },
  {
   "cell_type": "code",
   "execution_count": 11,
   "metadata": {
    "collapsed": false
   },
   "outputs": [
    {
     "data": {
      "text/plain": [
       "[('выдать', 'санкция'),\n",
       " ('удовлетворить', 'иск'),\n",
       " ('принять', 'решение'),\n",
       " ('удовлетворить', 'ходатайство'),\n",
       " ('наложить', 'арест'),\n",
       " ('признать', 'виновная'),\n",
       " ('санкционировать', 'арест'),\n",
       " ('отказать', 'удовлетворение'),\n",
       " ('освободить', 'залог'),\n",
       " ('признать', 'правота')]"
      ]
     },
     "execution_count": 11,
     "metadata": {},
     "output_type": "execute_result"
    }
   ],
   "source": [
    "finder.nbest(bigram_measures.likelihood_ratio, 10)"
   ]
  },
  {
   "cell_type": "code",
   "execution_count": 16,
   "metadata": {
    "collapsed": false
   },
   "outputs": [
    {
     "data": {
      "text/plain": [
       "[('выдать', 'санкция'),\n",
       " ('наложить', 'арест'),\n",
       " ('освободить', 'залог'),\n",
       " ('удовлетворить', 'ходатайство'),\n",
       " ('удовлетворить', 'иск'),\n",
       " ('принять', 'решение'),\n",
       " ('санкционировать', 'арест'),\n",
       " ('прийти', 'вывод'),\n",
       " ('усилить', 'катастрофа'),\n",
       " ('пройти', 'прение')]"
      ]
     },
     "execution_count": 16,
     "metadata": {},
     "output_type": "execute_result"
    }
   ],
   "source": [
    "finder.nbest(bigram_measures.mi_like, 10)"
   ]
  },
  {
   "cell_type": "markdown",
   "metadata": {},
   "source": [
    "Мой топ-10 (на основании raw_freq и интуиции):\n",
    "\n",
    "[('удовлетворить', 'иск'), ('удовлетворить', 'ходатайство'), ('принять', 'решение'), ('выдать', 'санкция'), ('признать', 'виновная'), ('наложить', 'арест'), ('санкционировать', 'арест'), ('отказать', 'удовлетворение'), ('вынести', 'решение'), ('признать', 'правота')]"
   ]
  },
  {
   "cell_type": "code",
   "execution_count": 18,
   "metadata": {
    "collapsed": true
   },
   "outputs": [],
   "source": [
    "gs = [('удовлетворить', 'иск'), ('удовлетворить', 'ходатайство'), ('принять', 'решение'), \\\n",
    "      ('выдать', 'санкция'), ('признать', 'виновная'), ('наложить', 'арест'), ('санкционировать', 'арест'), \\\n",
    "      ('отказать', 'удовлетворение'), ('вынести', 'решение'), ('признать', 'правота')]"
   ]
  },
  {
   "cell_type": "code",
   "execution_count": 27,
   "metadata": {
    "collapsed": false
   },
   "outputs": [
    {
     "name": "stdout",
     "output_type": "stream",
     "text": [
      "0.87\n"
     ]
    }
   ],
   "source": [
    "print('%0.2f' % nltk.collocations.spearman_correlation(nltk.ranks_from_sequence(gs), \\\n",
    "                    nltk.ranks_from_sequence(finder.nbest(bigram_measures.likelihood_ratio, 10))))"
   ]
  },
  {
   "cell_type": "code",
   "execution_count": 28,
   "metadata": {
    "collapsed": false
   },
   "outputs": [
    {
     "name": "stdout",
     "output_type": "stream",
     "text": [
      "-0.54\n"
     ]
    }
   ],
   "source": [
    "print('%0.2f' % nltk.collocations.spearman_correlation(nltk.ranks_from_sequence(gs), \\\n",
    "                    nltk.ranks_from_sequence(finder.nbest(bigram_measures.mi_like, 10))))"
   ]
  },
  {
   "cell_type": "markdown",
   "metadata": {},
   "source": [
    "Получается, что (как и ожидалось) у likelihood_ratio корреляция со стандартом почти 1, а mutual information даёт более слабую корреляцию (да ещё и большáя часть в обратном порядке)\n",
    "\n",
    "Кстати, проверим предположение про pmi:"
   ]
  },
  {
   "cell_type": "code",
   "execution_count": 29,
   "metadata": {
    "collapsed": false,
    "scrolled": true
   },
   "outputs": [
    {
     "name": "stdout",
     "output_type": "stream",
     "text": [
      "0.00\n"
     ]
    }
   ],
   "source": [
    "print('%0.2f' % nltk.collocations.spearman_correlation(nltk.ranks_from_sequence(gs), \\\n",
    "                    nltk.ranks_from_sequence(finder.nbest(bigram_measures.pmi, 10))))"
   ]
  },
  {
   "cell_type": "markdown",
   "metadata": {},
   "source": [
    "Доказано!"
   ]
  },
  {
   "cell_type": "markdown",
   "metadata": {},
   "source": [
    "P.S. На основании взятого с потолка стандарта из 10 позиций, конечно, ничего утверждать нельзя, но на мой взгляд likelihood_ratio действительно даёт самый адекватный вариант"
   ]
  }
 ],
 "metadata": {
  "anaconda-cloud": {},
  "kernelspec": {
   "display_name": "Python [conda root]",
   "language": "python",
   "name": "conda-root-py"
  },
  "language_info": {
   "codemirror_mode": {
    "name": "ipython",
    "version": 3
   },
   "file_extension": ".py",
   "mimetype": "text/x-python",
   "name": "python",
   "nbconvert_exporter": "python",
   "pygments_lexer": "ipython3",
   "version": "3.5.2"
  }
 },
 "nbformat": 4,
 "nbformat_minor": 1
}
