{
 "cells": [
  {
   "cell_type": "code",
   "execution_count": 1,
   "metadata": {
    "collapsed": true
   },
   "outputs": [],
   "source": [
    "from nltk.corpus import wordnet"
   ]
  },
  {
   "cell_type": "code",
   "execution_count": 3,
   "metadata": {
    "collapsed": false
   },
   "outputs": [
    {
     "name": "stdout",
     "output_type": "stream",
     "text": [
      "Synset('plant.n.01') buildings for carrying on industrial labor\n",
      "Synset('plant.n.02') (botany) a living organism lacking the power of locomotion\n",
      "Synset('plant.n.03') an actor situated in the audience whose acting is rehearsed but seems spontaneous to the audience\n",
      "Synset('plant.n.04') something planted secretly for discovery by another\n",
      "Synset('plant.v.01') put or set (seeds, seedlings, or plants) into the ground\n",
      "Synset('implant.v.01') fix or set securely or deeply\n",
      "Synset('establish.v.02') set up or lay the groundwork for\n",
      "Synset('plant.v.04') place into a river\n",
      "Synset('plant.v.05') place something or someone in a certain position in order to secretly observe or deceive\n",
      "Synset('plant.v.06') put firmly in the mind\n"
     ]
    }
   ],
   "source": [
    "# Найти все значения (синсеты) для лексемы plant\n",
    "# Найти определение для лексемы plant в значении (а) \"завод\" и в значении (b) \"растение\"\n",
    "for sense in wordnet.synsets('plant'):\n",
    "    print(sense, sense.definition())"
   ]
  },
  {
   "cell_type": "markdown",
   "metadata": {},
   "source": [
    "Очевидно, нужные значения - 'plant.n.01' и 'plant.n.02'"
   ]
  },
  {
   "cell_type": "code",
   "execution_count": 4,
   "metadata": {
    "collapsed": false
   },
   "outputs": [
    {
     "name": "stdout",
     "output_type": "stream",
     "text": [
      "(botany) a living organism lacking the power of locomotion\n",
      "place something or someone in a certain position in order to secretly observe or deceive\n",
      "(botany) a living organism lacking the power of locomotion\n",
      "(botany) a living organism lacking the power of locomotion\n"
     ]
    }
   ],
   "source": [
    "from nltk.wsd import lesk\n",
    "sent1 = 'The modernisation of the power plant will successively be carried out to the end of its planned service life .'.split()\n",
    "sent2 = 'Organise your garden with trees, conifers and other plants'\n",
    "print(lesk(sent1, 'plant').definition())\n",
    "print(lesk(sent2, 'plant').definition())\n",
    "# и сразу поможем ему и укажем части речи\n",
    "print(lesk(sent1, 'plant', 'n').definition())\n",
    "print(lesk(sent2, 'plant', 'n').definition())"
   ]
  },
  {
   "cell_type": "markdown",
   "metadata": {},
   "source": [
    "работает так себе"
   ]
  },
  {
   "cell_type": "code",
   "execution_count": 5,
   "metadata": {
    "collapsed": false
   },
   "outputs": [
    {
     "name": "stdout",
     "output_type": "stream",
     "text": [
      "[Synset('building_complex.n.01')]\n",
      "[Synset('organism.n.01')]\n"
     ]
    }
   ],
   "source": [
    "print(wordnet.synset('plant.n.01').hypernyms())\n",
    "print(wordnet.synset('plant.n.02').hypernyms())"
   ]
  },
  {
   "cell_type": "code",
   "execution_count": 48,
   "metadata": {
    "collapsed": false,
    "scrolled": true
   },
   "outputs": [
    {
     "name": "stdout",
     "output_type": "stream",
     "text": [
      "завод:industry\n",
      "0.07142857142857142\n",
      "persevering determination to perform a task\n",
      "=================\n",
      "растение:leaf\n",
      "0.125\n",
      "the main organ of photosynthesis and transpiration in higher plants\n",
      "==================================\n",
      "завод:leaf\n",
      "0.1111111111111111\n",
      "the main organ of photosynthesis and transpiration in higher plants\n",
      "=================\n",
      "растение:leaf\n",
      "0.125\n",
      "the main organ of photosynthesis and transpiration in higher plants\n"
     ]
    }
   ],
   "source": [
    "# Вычислите наименьшее расстояние между значением plant \"завод\" и значениями лексемы industry, \n",
    "# а также plant \"растение\" и значениями лексемы leaf\n",
    "# Найти min (d(plant: \"завод\", industry), d(plant: \"завод\", leaf)), а также \n",
    "# min (d(plant: \"растение\", industry), d(plant: \"растение\", leaf))\n",
    "\n",
    "# эти два задания вроде про одно и то же но про разное\n",
    "# это сбивает с толку, но наименьшее расстояние = наибольшее сходство\n",
    "\n",
    "# 1\n",
    "pl1 = wordnet.synset('plant.n.01')\n",
    "sims1 = [pl1.path_similarity(sense) for sense in wordnet.synsets('industry', 'n')]\n",
    "ma1 = max(sims1)\n",
    "print('завод:industry', ma1, wordnet.synsets('industry', 'n')[sims1.index(ma1)].definition(), sep='\\n')\n",
    "print('=================')\n",
    "pl2 = wordnet.synset('plant.n.02')\n",
    "sims2 = [pl2.path_similarity(sense) for sense in wordnet.synsets('leaf', 'n')]\n",
    "ma2 = max(sims2)\n",
    "print('растение:leaf', ma2, wordnet.synsets('leaf', 'n')[sims2.index(ma2)].definition(), sep='\\n')\n",
    "\n",
    "#2\n",
    "print('================='*2)\n",
    "sims12 = [pl1.path_similarity(sense) for sense in wordnet.synsets('leaf', 'n')]\n",
    "sims21 = [pl2.path_similarity(sense) for sense in wordnet.synsets('industry', 'n')]\n",
    "ma12 = max(sims12)\n",
    "ma21 = max(sims21)\n",
    "if ma12>ma1:\n",
    "    print('завод:leaf', ma12, wordnet.synsets('leaf', 'n')[sims12.index(ma12)].definition(), sep='\\n')\n",
    "else:\n",
    "    print('завод:industry', ma1, wordnet.synsets('industry', 'n')[sims1.index(ma1)].definition(), sep='\\n')\n",
    "print('=================')\n",
    "if ma21>ma2:\n",
    "    print('растение:industry', ma21, wordnet.synsets('industry', 'n')[sims21.index(ma21)].definition(), sep='\\n')\n",
    "else:\n",
    "    print('растение:leaf', ma2, wordnet.synsets('leaf', 'n')[sims2.index(ma2)].definition(), sep='\\n')"
   ]
  },
  {
   "cell_type": "markdown",
   "metadata": {
    "collapsed": true
   },
   "source": [
    "Почему-то лист ближе всего и к растению, и к заводу"
   ]
  },
  {
   "cell_type": "code",
   "execution_count": 49,
   "metadata": {
    "collapsed": false
   },
   "outputs": [
    {
     "name": "stdout",
     "output_type": "stream",
     "text": [
      "lch:\n",
      "2.538973871058276\n",
      "(botany) a living organism lacking the power of locomotion\n",
      "coarse prickly perennial eryngo of United States thought to cure rattlesnake bite\n",
      "wup:\n",
      "0.875\n",
      "(botany) a living organism lacking the power of locomotion\n",
      "coarse prickly perennial eryngo of United States thought to cure rattlesnake bite\n",
      "=================\n",
      "lch:\n",
      "1.55814461804655\n",
      "a system considered analogous in structure or function to a living body\n",
      "an assemblage of parts that is regarded as a single entity\n",
      "wup:\n",
      "0.3076923076923077\n",
      "a system considered analogous in structure or function to a living body\n",
      "all of something including all its component elements or parts\n"
     ]
    }
   ],
   "source": [
    "# d(plant: \"растение\", rattlesnake's master) и d(organism, whole) \n",
    "# Есть ли разница в расстояниях? Какое из расстояний, по Вашему мнению, \n",
    "# в лучшей степени отражает интуитивное представление о семантчиеской близости слов?\n",
    "\n",
    "snake = wordnet.synsets('rattlesnake\\'s_master')\n",
    "organism = wordnet.synsets('organism')\n",
    "whole = wordnet.synsets('whole', 'n')\n",
    "\n",
    "sims_plant_snake = [pl2.lch_similarity(sense) for sense in snake]\n",
    "sims_plant_snake2 = [pl2.wup_similarity(sense) for sense in snake]\n",
    "sims_org_whole = [[org.lch_similarity(sense) for sense in whole] for org in organism]\n",
    "sims_org_whole2 = [[org.wup_similarity(sense) for sense in whole] for org in organism]\n",
    "\n",
    "max_snake = max(sims_plant_snake)\n",
    "max_snake2 = max(sims_plant_snake2)\n",
    "max_whole = max(sims_org_whole)\n",
    "max_whole2 = max(sims_org_whole2)\n",
    "\n",
    "print('lch:', max_snake, pl2.definition(), snake[sims_plant_snake.index(max_snake)].definition(), sep='\\n')\n",
    "print('wup:', max_snake2, pl2.definition(), snake[sims_plant_snake2.index(max_snake2)].definition(), sep='\\n')\n",
    "print('=================')\n",
    "org_index = sims_org_whole.index(max_whole)\n",
    "org_index2 = sims_org_whole2.index(max_whole2)\n",
    "print('lch:', max(max_whole), organism[org_index].definition(), whole[sims_org_whole[org_index].index(max(max_whole))].definition(), sep='\\n')\n",
    "print('wup:', max(max_whole2), organism[org_index2].definition(), whole[sims_org_whole2[org_index2].index(max(max_whole2))].definition(), sep='\\n')"
   ]
  },
  {
   "cell_type": "markdown",
   "metadata": {},
   "source": [
    "Характеристики дают немного разные результаты, но в принципе соотносимы. Пользоваться Wu-Palmer Similarity всё-таки проще, чем Leacock Chodorow Similarity, потому что wp даёт результаты по шкале от 0 до 1, тогда как lch от 0 до неинтуитивного 3.637"
   ]
  },
  {
   "cell_type": "markdown",
   "metadata": {},
   "source": [
    "Эпилог "
   ]
  },
  {
   "cell_type": "code",
   "execution_count": 36,
   "metadata": {
    "collapsed": false
   },
   "outputs": [
    {
     "data": {
      "text/plain": [
       "1.0"
      ]
     },
     "execution_count": 36,
     "metadata": {},
     "output_type": "execute_result"
    }
   ],
   "source": [
    "pl1.path_similarity(pl1)"
   ]
  },
  {
   "cell_type": "code",
   "execution_count": 37,
   "metadata": {
    "collapsed": false
   },
   "outputs": [
    {
     "data": {
      "text/plain": [
       "1.0"
      ]
     },
     "execution_count": 37,
     "metadata": {},
     "output_type": "execute_result"
    }
   ],
   "source": [
    "pl1.wup_similarity(pl1)"
   ]
  },
  {
   "cell_type": "code",
   "execution_count": 38,
   "metadata": {
    "collapsed": false
   },
   "outputs": [
    {
     "data": {
      "text/plain": [
       "3.6375861597263857"
      ]
     },
     "execution_count": 38,
     "metadata": {},
     "output_type": "execute_result"
    }
   ],
   "source": [
    "pl1.lch_similarity(pl1)"
   ]
  }
 ],
 "metadata": {
  "anaconda-cloud": {},
  "kernelspec": {
   "display_name": "Python [conda root]",
   "language": "python",
   "name": "conda-root-py"
  },
  "language_info": {
   "codemirror_mode": {
    "name": "ipython",
    "version": 3
   },
   "file_extension": ".py",
   "mimetype": "text/x-python",
   "name": "python",
   "nbconvert_exporter": "python",
   "pygments_lexer": "ipython3",
   "version": "3.5.2"
  }
 },
 "nbformat": 4,
 "nbformat_minor": 1
}
